{
 "cells": [
  {
   "cell_type": "code",
   "execution_count": 13,
   "id": "370b87e6",
   "metadata": {},
   "outputs": [
    {
     "name": "stdout",
     "output_type": "stream",
     "text": [
      " --- Before Display --- \n",
      "1\n",
      "2\n",
      "3\n",
      " --- After Display --- \n",
      "1\n",
      "2\n"
     ]
    }
   ],
   "source": [
    "class Stack:\n",
    "    class _Node:\n",
    "        def __init__(self, data):\n",
    "            self.data = data\n",
    "            self.next = None\n",
    "\n",
    "    class LinkList:\n",
    "        def __init__(self):\n",
    "            self.head = None\n",
    "        \n",
    "        def push(self, data):\n",
    "            new_node = Stack._Node(data)\n",
    "            if self.head == None:\n",
    "                self.head = new_node\n",
    "            \n",
    "            else:\n",
    "                temp = self.head\n",
    "                while temp.next != None:\n",
    "                    temp = temp.next\n",
    "                temp.next= new_node\n",
    "\n",
    "        def pop(self):\n",
    "            temp = self.head\n",
    "            temp_two = self.head\n",
    "            while temp.next != None:\n",
    "                temp_two = temp\n",
    "                temp = temp.next\n",
    "\n",
    "            temp_two.next = None\n",
    "            del temp\n",
    "            temp = None\n",
    "\n",
    "        def display(self):\n",
    "            temp = self.head\n",
    "            while temp != None:\n",
    "                print(temp.data)\n",
    "                temp = temp.next\n",
    "\n",
    "\n",
    "obj = Stack()\n",
    "stack = obj.LinkList()\n",
    "stack.push(1)\n",
    "stack.push(2)\n",
    "stack.push(3)\n",
    "\n",
    "print(\" --- Before Display --- \")\n",
    "stack.display()\n",
    "\n",
    "print(\" --- After Display --- \")\n",
    "stack.pop()\n",
    "stack.display()\n",
    "\n"
   ]
  }
 ],
 "metadata": {
  "kernelspec": {
   "display_name": "Python 3",
   "language": "python",
   "name": "python3"
  },
  "language_info": {
   "codemirror_mode": {
    "name": "ipython",
    "version": 3
   },
   "file_extension": ".py",
   "mimetype": "text/x-python",
   "name": "python",
   "nbconvert_exporter": "python",
   "pygments_lexer": "ipython3",
   "version": "3.13.7"
  }
 },
 "nbformat": 4,
 "nbformat_minor": 5
}
