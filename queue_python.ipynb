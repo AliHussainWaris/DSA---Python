{
 "cells": [
  {
   "cell_type": "code",
   "execution_count": 13,
   "id": "8eb9c9c3",
   "metadata": {},
   "outputs": [
    {
     "name": "stdout",
     "output_type": "stream",
     "text": [
      " --- Before Display --- \n",
      "1\n",
      "2\n",
      "3\n",
      " --- After Display --- \n",
      "2\n",
      "3\n"
     ]
    }
   ],
   "source": [
    "class Queue:\n",
    "    class _Node:\n",
    "        def __init__(self, data):\n",
    "            self.data = data\n",
    "            self.next = None\n",
    "\n",
    "    class LinkList:\n",
    "        def __init__(self):\n",
    "            self.head = None\n",
    "\n",
    "        def Enqueue(self , data):\n",
    "            new_node = Queue._Node(data)\n",
    "            if self.head == None:\n",
    "                self.head = new_node\n",
    "            \n",
    "            else:\n",
    "                temp = self.head\n",
    "                while temp.next != None:\n",
    "                    temp = temp.next\n",
    "                temp.next= new_node\n",
    "\n",
    "        def Dequeue(self):\n",
    "            temp = self.head\n",
    "            self.head = temp.next\n",
    "            del temp\n",
    "            temp = None\n",
    "\n",
    "        def Display(self):\n",
    "            temp = self.head\n",
    "\n",
    "            while temp != None:\n",
    "                print(temp.data)\n",
    "                temp = temp.next\n",
    "\n",
    "\n",
    "obj = Queue()\n",
    "queue = obj.LinkList()\n",
    "queue.Enqueue(1)\n",
    "queue.Enqueue(2)\n",
    "queue.Enqueue(3)\n",
    "\n",
    "print(\" --- Before Display --- \")\n",
    "queue.Display()\n",
    "\n",
    "print(\" --- After Display --- \")\n",
    "queue.Dequeue()\n",
    "queue.Display()\n"
   ]
  }
 ],
 "metadata": {
  "kernelspec": {
   "display_name": "Python 3",
   "language": "python",
   "name": "python3"
  },
  "language_info": {
   "codemirror_mode": {
    "name": "ipython",
    "version": 3
   },
   "file_extension": ".py",
   "mimetype": "text/x-python",
   "name": "python",
   "nbconvert_exporter": "python",
   "pygments_lexer": "ipython3",
   "version": "3.13.7"
  }
 },
 "nbformat": 4,
 "nbformat_minor": 5
}
